{
 "cells": [
  {
   "cell_type": "code",
   "execution_count": 1,
   "metadata": {
    "collapsed": false
   },
   "outputs": [
    {
     "name": "stdout",
     "output_type": "stream",
     "text": [
      "Extracting MNIST_data/train-images-idx3-ubyte.gz\n",
      "Extracting MNIST_data/train-labels-idx1-ubyte.gz\n",
      "Extracting MNIST_data/t10k-images-idx3-ubyte.gz\n",
      "Extracting MNIST_data/t10k-labels-idx1-ubyte.gz\n"
     ]
    }
   ],
   "source": [
    "from tensorflow.examples.tutorials.mnist import input_data\n",
    "mnist = input_data.read_data_sets('MNIST_data', one_hot=True)\n",
    "\n",
    "import tensorflow as tf\n",
    "euclidean_dist_module = tf.load_op_library(\"euclidean_dist.so\")\n",
    "euclidean_dist = euclidean_dist_module.euclidean_dist\n",
    "euclidean_dist_grad = euclidean_dist_module.euclidean_dist_grad\n",
    "\n",
    "from tensorflow.python.framework import ops\n",
    "@ops.RegisterGradient(\"EuclideanDist\")\n",
    "def _EuclideanDistGrad(op, grad):\n",
    "    a = op.inputs[0]\n",
    "    b = op.inputs[1]\n",
    "    y = op.outputs[0]  # y = 0.5 * b / conj(a)\n",
    "    xGrad, cGrad = euclidean_dist_grad(a,b,y,grad)\n",
    "    return xGrad, cGrad\n",
    "\n",
    "import time\n",
    "\n",
    "\n",
    "def weight_variable(shape):\n",
    "    initial = tf.truncated_normal(shape, stddev=0.1)\n",
    "    return tf.Variable(initial)\n",
    "\n",
    "def bias_variable(shape):\n",
    "    initial = tf.constant(0.1, shape=shape)\n",
    "    return tf.Variable(initial)\n",
    "\n",
    "def RBFEuclidean(x, C, number_of_threads=1):\n",
    "    \"\"\"Computes distance from cluster centers defined in input C\n",
    "    \n",
    "    Both outdim and indim should be integers.\n",
    "    \"\"\"\n",
    "    return -euclidean_dist(x,C,number_of_threads)"
   ]
  },
  {
   "cell_type": "code",
   "execution_count": 5,
   "metadata": {
    "collapsed": false
   },
   "outputs": [
    {
     "name": "stdout",
     "output_type": "stream",
     "text": [
      "ArgSpec(args=['data', 'clusters', 'number_of_threads', 'name'], varargs=None, keywords=None, defaults=(None, None))\n"
     ]
    }
   ],
   "source": [
    "import inspect\n",
    "print(inspect.getargspec(euclidean_dist))"
   ]
  },
  {
   "cell_type": "code",
   "execution_count": 8,
   "metadata": {
    "collapsed": false
   },
   "outputs": [
    {
     "name": "stdout",
     "output_type": "stream",
     "text": [
      "step 0, training accuracy 0.18\n",
      "step 1000, training accuracy 0.16\n",
      "step 1200, training accuracy 0.06"
     ]
    },
    {
     "ename": "KeyboardInterrupt",
     "evalue": "",
     "output_type": "error",
     "traceback": [
      "\u001b[1;31m---------------------------------------------------------------------------\u001b[0m",
      "\u001b[1;31mKeyboardInterrupt\u001b[0m                         Traceback (most recent call last)",
      "\u001b[1;32m<ipython-input-8-318c4e6dd2cd>\u001b[0m in \u001b[0;36m<module>\u001b[1;34m()\u001b[0m\n\u001b[0;32m     24\u001b[0m         x:batch[0], y_: batch[1]})\n\u001b[0;32m     25\u001b[0m     \u001b[0mprint\u001b[0m\u001b[1;33m(\u001b[0m\u001b[1;34m\"\\rstep %d, training accuracy %g\"\u001b[0m\u001b[1;33m%\u001b[0m\u001b[1;33m(\u001b[0m\u001b[0mi\u001b[0m\u001b[1;33m,\u001b[0m \u001b[0mtrain_accuracy\u001b[0m\u001b[1;33m)\u001b[0m\u001b[1;33m,\u001b[0m \u001b[0mend\u001b[0m\u001b[1;33m=\u001b[0m\u001b[1;34m\"\"\u001b[0m \u001b[1;32mif\u001b[0m \u001b[0mi\u001b[0m\u001b[1;33m%\u001b[0m\u001b[1;36m1000\u001b[0m \u001b[1;32melse\u001b[0m \u001b[1;34m\"\\n\"\u001b[0m\u001b[1;33m)\u001b[0m\u001b[1;33m\u001b[0m\u001b[0m\n\u001b[1;32m---> 26\u001b[1;33m   \u001b[0mtrain_step\u001b[0m\u001b[1;33m.\u001b[0m\u001b[0mrun\u001b[0m\u001b[1;33m(\u001b[0m\u001b[0mfeed_dict\u001b[0m\u001b[1;33m=\u001b[0m\u001b[1;33m{\u001b[0m\u001b[0mx\u001b[0m\u001b[1;33m:\u001b[0m \u001b[0mbatch\u001b[0m\u001b[1;33m[\u001b[0m\u001b[1;36m0\u001b[0m\u001b[1;33m]\u001b[0m\u001b[1;33m,\u001b[0m \u001b[0my_\u001b[0m\u001b[1;33m:\u001b[0m \u001b[0mbatch\u001b[0m\u001b[1;33m[\u001b[0m\u001b[1;36m1\u001b[0m\u001b[1;33m]\u001b[0m\u001b[1;33m}\u001b[0m\u001b[1;33m)\u001b[0m\u001b[1;33m\u001b[0m\u001b[0m\n\u001b[0m\u001b[0;32m     27\u001b[0m \u001b[1;33m\u001b[0m\u001b[0m\n\u001b[0;32m     28\u001b[0m \u001b[0melapsed\u001b[0m \u001b[1;33m=\u001b[0m \u001b[0mtime\u001b[0m\u001b[1;33m.\u001b[0m\u001b[0mtime\u001b[0m\u001b[1;33m(\u001b[0m\u001b[1;33m)\u001b[0m\u001b[1;33m-\u001b[0m\u001b[0mstart\u001b[0m\u001b[1;33m\u001b[0m\u001b[0m\n",
      "\u001b[1;32m/usr/local/lib/python3.4/dist-packages/tensorflow/python/framework/ops.py\u001b[0m in \u001b[0;36mrun\u001b[1;34m(self, feed_dict, session)\u001b[0m\n\u001b[0;32m   1617\u001b[0m         \u001b[0mnone\u001b[0m\u001b[1;33m,\u001b[0m \u001b[0mthe\u001b[0m \u001b[0mdefault\u001b[0m \u001b[0msession\u001b[0m \u001b[0mwill\u001b[0m \u001b[0mbe\u001b[0m \u001b[0mused\u001b[0m\u001b[1;33m.\u001b[0m\u001b[1;33m\u001b[0m\u001b[0m\n\u001b[0;32m   1618\u001b[0m     \"\"\"\n\u001b[1;32m-> 1619\u001b[1;33m     \u001b[0m_run_using_default_session\u001b[0m\u001b[1;33m(\u001b[0m\u001b[0mself\u001b[0m\u001b[1;33m,\u001b[0m \u001b[0mfeed_dict\u001b[0m\u001b[1;33m,\u001b[0m \u001b[0mself\u001b[0m\u001b[1;33m.\u001b[0m\u001b[0mgraph\u001b[0m\u001b[1;33m,\u001b[0m \u001b[0msession\u001b[0m\u001b[1;33m)\u001b[0m\u001b[1;33m\u001b[0m\u001b[0m\n\u001b[0m\u001b[0;32m   1620\u001b[0m \u001b[1;33m\u001b[0m\u001b[0m\n\u001b[0;32m   1621\u001b[0m \u001b[1;33m\u001b[0m\u001b[0m\n",
      "\u001b[1;32m/usr/local/lib/python3.4/dist-packages/tensorflow/python/framework/ops.py\u001b[0m in \u001b[0;36m_run_using_default_session\u001b[1;34m(operation, feed_dict, graph, session)\u001b[0m\n\u001b[0;32m   3794\u001b[0m                        \u001b[1;34m\"the operation's graph is different from the session's \"\u001b[0m\u001b[1;33m\u001b[0m\u001b[0m\n\u001b[0;32m   3795\u001b[0m                        \"graph.\")\n\u001b[1;32m-> 3796\u001b[1;33m   \u001b[0msession\u001b[0m\u001b[1;33m.\u001b[0m\u001b[0mrun\u001b[0m\u001b[1;33m(\u001b[0m\u001b[0moperation\u001b[0m\u001b[1;33m,\u001b[0m \u001b[0mfeed_dict\u001b[0m\u001b[1;33m)\u001b[0m\u001b[1;33m\u001b[0m\u001b[0m\n\u001b[0m\u001b[0;32m   3797\u001b[0m \u001b[1;33m\u001b[0m\u001b[0m\n\u001b[0;32m   3798\u001b[0m \u001b[1;33m\u001b[0m\u001b[0m\n",
      "\u001b[1;32m/usr/local/lib/python3.4/dist-packages/tensorflow/python/client/session.py\u001b[0m in \u001b[0;36mrun\u001b[1;34m(self, fetches, feed_dict, options, run_metadata)\u001b[0m\n\u001b[0;32m    715\u001b[0m     \u001b[1;32mtry\u001b[0m\u001b[1;33m:\u001b[0m\u001b[1;33m\u001b[0m\u001b[0m\n\u001b[0;32m    716\u001b[0m       result = self._run(None, fetches, feed_dict, options_ptr,\n\u001b[1;32m--> 717\u001b[1;33m                          run_metadata_ptr)\n\u001b[0m\u001b[0;32m    718\u001b[0m       \u001b[1;32mif\u001b[0m \u001b[0mrun_metadata\u001b[0m\u001b[1;33m:\u001b[0m\u001b[1;33m\u001b[0m\u001b[0m\n\u001b[0;32m    719\u001b[0m         \u001b[0mproto_data\u001b[0m \u001b[1;33m=\u001b[0m \u001b[0mtf_session\u001b[0m\u001b[1;33m.\u001b[0m\u001b[0mTF_GetBuffer\u001b[0m\u001b[1;33m(\u001b[0m\u001b[0mrun_metadata_ptr\u001b[0m\u001b[1;33m)\u001b[0m\u001b[1;33m\u001b[0m\u001b[0m\n",
      "\u001b[1;32m/usr/local/lib/python3.4/dist-packages/tensorflow/python/client/session.py\u001b[0m in \u001b[0;36m_run\u001b[1;34m(self, handle, fetches, feed_dict, options, run_metadata)\u001b[0m\n\u001b[0;32m    913\u001b[0m     \u001b[1;32mif\u001b[0m \u001b[0mfinal_fetches\u001b[0m \u001b[1;32mor\u001b[0m \u001b[0mfinal_targets\u001b[0m\u001b[1;33m:\u001b[0m\u001b[1;33m\u001b[0m\u001b[0m\n\u001b[0;32m    914\u001b[0m       results = self._do_run(handle, final_targets, final_fetches,\n\u001b[1;32m--> 915\u001b[1;33m                              feed_dict_string, options, run_metadata)\n\u001b[0m\u001b[0;32m    916\u001b[0m     \u001b[1;32melse\u001b[0m\u001b[1;33m:\u001b[0m\u001b[1;33m\u001b[0m\u001b[0m\n\u001b[0;32m    917\u001b[0m       \u001b[0mresults\u001b[0m \u001b[1;33m=\u001b[0m \u001b[1;33m[\u001b[0m\u001b[1;33m]\u001b[0m\u001b[1;33m\u001b[0m\u001b[0m\n",
      "\u001b[1;32m/usr/local/lib/python3.4/dist-packages/tensorflow/python/client/session.py\u001b[0m in \u001b[0;36m_do_run\u001b[1;34m(self, handle, target_list, fetch_list, feed_dict, options, run_metadata)\u001b[0m\n\u001b[0;32m    963\u001b[0m     \u001b[1;32mif\u001b[0m \u001b[0mhandle\u001b[0m \u001b[1;32mis\u001b[0m \u001b[1;32mNone\u001b[0m\u001b[1;33m:\u001b[0m\u001b[1;33m\u001b[0m\u001b[0m\n\u001b[0;32m    964\u001b[0m       return self._do_call(_run_fn, self._session, feed_dict, fetch_list,\n\u001b[1;32m--> 965\u001b[1;33m                            target_list, options, run_metadata)\n\u001b[0m\u001b[0;32m    966\u001b[0m     \u001b[1;32melse\u001b[0m\u001b[1;33m:\u001b[0m\u001b[1;33m\u001b[0m\u001b[0m\n\u001b[0;32m    967\u001b[0m       return self._do_call(_prun_fn, self._session, handle, feed_dict,\n",
      "\u001b[1;32m/usr/local/lib/python3.4/dist-packages/tensorflow/python/client/session.py\u001b[0m in \u001b[0;36m_do_call\u001b[1;34m(self, fn, *args)\u001b[0m\n\u001b[0;32m    970\u001b[0m   \u001b[1;32mdef\u001b[0m \u001b[0m_do_call\u001b[0m\u001b[1;33m(\u001b[0m\u001b[0mself\u001b[0m\u001b[1;33m,\u001b[0m \u001b[0mfn\u001b[0m\u001b[1;33m,\u001b[0m \u001b[1;33m*\u001b[0m\u001b[0margs\u001b[0m\u001b[1;33m)\u001b[0m\u001b[1;33m:\u001b[0m\u001b[1;33m\u001b[0m\u001b[0m\n\u001b[0;32m    971\u001b[0m     \u001b[1;32mtry\u001b[0m\u001b[1;33m:\u001b[0m\u001b[1;33m\u001b[0m\u001b[0m\n\u001b[1;32m--> 972\u001b[1;33m       \u001b[1;32mreturn\u001b[0m \u001b[0mfn\u001b[0m\u001b[1;33m(\u001b[0m\u001b[1;33m*\u001b[0m\u001b[0margs\u001b[0m\u001b[1;33m)\u001b[0m\u001b[1;33m\u001b[0m\u001b[0m\n\u001b[0m\u001b[0;32m    973\u001b[0m     \u001b[1;32mexcept\u001b[0m \u001b[0merrors\u001b[0m\u001b[1;33m.\u001b[0m\u001b[0mOpError\u001b[0m \u001b[1;32mas\u001b[0m \u001b[0me\u001b[0m\u001b[1;33m:\u001b[0m\u001b[1;33m\u001b[0m\u001b[0m\n\u001b[0;32m    974\u001b[0m       \u001b[0mmessage\u001b[0m \u001b[1;33m=\u001b[0m \u001b[0mcompat\u001b[0m\u001b[1;33m.\u001b[0m\u001b[0mas_text\u001b[0m\u001b[1;33m(\u001b[0m\u001b[0me\u001b[0m\u001b[1;33m.\u001b[0m\u001b[0mmessage\u001b[0m\u001b[1;33m)\u001b[0m\u001b[1;33m\u001b[0m\u001b[0m\n",
      "\u001b[1;32m/usr/local/lib/python3.4/dist-packages/tensorflow/python/client/session.py\u001b[0m in \u001b[0;36m_run_fn\u001b[1;34m(session, feed_dict, fetch_list, target_list, options, run_metadata)\u001b[0m\n\u001b[0;32m    952\u001b[0m         return tf_session.TF_Run(session, options,\n\u001b[0;32m    953\u001b[0m                                  \u001b[0mfeed_dict\u001b[0m\u001b[1;33m,\u001b[0m \u001b[0mfetch_list\u001b[0m\u001b[1;33m,\u001b[0m \u001b[0mtarget_list\u001b[0m\u001b[1;33m,\u001b[0m\u001b[1;33m\u001b[0m\u001b[0m\n\u001b[1;32m--> 954\u001b[1;33m                                  status, run_metadata)\n\u001b[0m\u001b[0;32m    955\u001b[0m \u001b[1;33m\u001b[0m\u001b[0m\n\u001b[0;32m    956\u001b[0m     \u001b[1;32mdef\u001b[0m \u001b[0m_prun_fn\u001b[0m\u001b[1;33m(\u001b[0m\u001b[0msession\u001b[0m\u001b[1;33m,\u001b[0m \u001b[0mhandle\u001b[0m\u001b[1;33m,\u001b[0m \u001b[0mfeed_dict\u001b[0m\u001b[1;33m,\u001b[0m \u001b[0mfetch_list\u001b[0m\u001b[1;33m)\u001b[0m\u001b[1;33m:\u001b[0m\u001b[1;33m\u001b[0m\u001b[0m\n",
      "\u001b[1;31mKeyboardInterrupt\u001b[0m: "
     ]
    }
   ],
   "source": [
    "sess = tf.InteractiveSession()\n",
    "\n",
    "x = tf.placeholder(tf.float32, shape=[None, 784])\n",
    "y_ = tf.placeholder(tf.float32, shape=[None, 10])\n",
    "\n",
    "W_fc1 = weight_variable([784, 1000])\n",
    "W_fc2 = weight_variable([1000, 10])\n",
    "b_fc2 = bias_variable([10])\n",
    "\n",
    "h_rbf = RBFEuclidean(x, W_fc1,1)\n",
    "\n",
    "y_conv = RBFEuclidean(h_rbf, W_fc2,1) + b_fc2\n",
    "\n",
    "cross_entropy = tf.reduce_mean(tf.nn.softmax_cross_entropy_with_logits(y_conv, y_))\n",
    "train_step = tf.train.AdamOptimizer(1e-4).minimize(cross_entropy)\n",
    "correct_prediction = tf.equal(tf.argmax(y_conv,1), tf.argmax(y_,1))\n",
    "accuracy = tf.reduce_mean(tf.cast(correct_prediction, tf.float32))\n",
    "sess.run(tf.initialize_all_variables())\n",
    "start = time.time()\n",
    "for i in range(20000):\n",
    "  batch = mnist.train.next_batch(50)\n",
    "  if i%100 == 0:\n",
    "    train_accuracy = accuracy.eval(feed_dict={\n",
    "        x:batch[0], y_: batch[1]})\n",
    "    print(\"\\rstep %d, training accuracy %g\"%(i, train_accuracy), end=\"\" if i%1000 else \"\\n\")\n",
    "  train_step.run(feed_dict={x: batch[0], y_: batch[1]})\n",
    "\n",
    "elapsed = time.time()-start\n",
    "print(\"\\nTraining took {}\".format(elapsed))\n",
    "print(\"\\ntest accuracy %g\"%accuracy.eval(feed_dict={\n",
    "    x: mnist.test.images, y_: mnist.test.labels}))"
   ]
  },
  {
   "cell_type": "code",
   "execution_count": 1,
   "metadata": {
    "collapsed": true
   },
   "outputs": [],
   "source": [
    "import tensorflow as tf\n",
    "euclidean_dist_module = tf.load_op_library(\"euclidean_dist.so\")\n",
    "euclidean_dist = euclidean_dist_module.euclidean_dist\n",
    "euclidean_dist_grad = euclidean_dist_module.euclidean_dist_grad\n",
    "\n",
    "from tensorflow.python.framework import ops\n",
    "@ops.RegisterGradient(\"EuclideanDist\")\n",
    "def _EuclideanDistGrad(op, grad):\n",
    "    a = op.inputs[0]\n",
    "    b = op.inputs[1]\n",
    "    y = op.outputs[0]  # y = 0.5 * b / conj(a)\n",
    "    xGrad, cGrad = euclidean_dist_grad(a,b,y,grad)\n",
    "    return xGrad, cGrad\n",
    "\n",
    "import time\n",
    "\n",
    "\n",
    "def weight_variable(shape):\n",
    "    initial = tf.truncated_normal(shape, stddev=0.1)\n",
    "    return tf.Variable(initial)\n",
    "\n",
    "def bias_variable(shape):\n",
    "    initial = tf.constant(0.1, shape=shape)\n",
    "    return tf.Variable(initial)\n",
    "\n",
    "def RBFEuclidean(x, C, number_of_threads=1):\n",
    "    \"\"\"Computes distance from cluster centers defined in input C\n",
    "    \n",
    "    Both outdim and indim should be integers.\n",
    "    \"\"\"\n",
    "    return -euclidean_dist(x,C,number_of_threads)"
   ]
  },
  {
   "cell_type": "code",
   "execution_count": 2,
   "metadata": {
    "collapsed": true
   },
   "outputs": [],
   "source": [
    "repeat_i_times = 10"
   ]
  },
  {
   "cell_type": "code",
   "execution_count": 3,
   "metadata": {
    "collapsed": false,
    "scrolled": true
   },
   "outputs": [
    {
     "name": "stdout",
     "output_type": "stream",
     "text": [
      "\n",
      "Feed-forward took 0.09167695045471191 with GPU and 10 datapoints\n",
      "\n",
      "Feed-forward took 0.00390625 with GPU and 100 datapoints\n",
      "\n",
      "Feed-forward took 0.2682304382324219 with GPU and 1000 datapoints\n",
      "\n",
      "Feed-forward took 0.004080772399902344 with GPU and 10 datapoints\n",
      "\n",
      "Feed-forward took 0.003939628601074219 with GPU and 100 datapoints\n",
      "\n",
      "Feed-forward took 0.2681541442871094 with GPU and 1000 datapoints\n",
      "\n",
      "Feed-forward took 0.0038886070251464844 with GPU and 10 datapoints\n",
      "\n",
      "Feed-forward took 0.004070758819580078 with GPU and 100 datapoints\n",
      "\n",
      "Feed-forward took 0.2671811580657959 with GPU and 1000 datapoints\n",
      "\n",
      "Feed-forward took 0.004770040512084961 with GPU and 10 datapoints\n",
      "\n",
      "Feed-forward took 0.0046041011810302734 with GPU and 100 datapoints\n",
      "\n",
      "Feed-forward took 0.2686278820037842 with GPU and 1000 datapoints\n",
      "\n",
      "Feed-forward took 0.004425764083862305 with GPU and 10 datapoints\n",
      "\n",
      "Feed-forward took 0.004774570465087891 with GPU and 100 datapoints\n",
      "\n",
      "Feed-forward took 0.2672851085662842 with GPU and 1000 datapoints\n",
      "\n",
      "Feed-forward took 0.005418539047241211 with GPU and 10 datapoints\n",
      "\n",
      "Feed-forward took 0.0050122737884521484 with GPU and 100 datapoints\n",
      "\n",
      "Feed-forward took 0.26698946952819824 with GPU and 1000 datapoints\n",
      "\n",
      "Feed-forward took 0.004907846450805664 with GPU and 10 datapoints\n",
      "\n",
      "Feed-forward took 0.0053844451904296875 with GPU and 100 datapoints\n",
      "\n",
      "Feed-forward took 0.2674129009246826 with GPU and 1000 datapoints\n",
      "\n",
      "Feed-forward took 0.00696110725402832 with GPU and 10 datapoints\n",
      "\n",
      "Feed-forward took 0.00733184814453125 with GPU and 100 datapoints\n",
      "\n",
      "Feed-forward took 0.2689547538757324 with GPU and 1000 datapoints\n",
      "\n",
      "Feed-forward took 0.006661891937255859 with GPU and 10 datapoints\n",
      "\n",
      "Feed-forward took 0.00678253173828125 with GPU and 100 datapoints\n",
      "\n",
      "Feed-forward took 0.2684810161590576 with GPU and 1000 datapoints\n",
      "\n",
      "Feed-forward took 0.007348060607910156 with GPU and 10 datapoints\n",
      "\n",
      "Feed-forward took 0.006922483444213867 with GPU and 100 datapoints\n",
      "\n",
      "Feed-forward took 0.26943349838256836 with GPU and 1000 datapoints\n"
     ]
    }
   ],
   "source": [
    "import os\n",
    "os.environ[\"CUDA_VISIBLE_DEVICES\"]=\"0\"\n",
    "\n",
    "sess = tf.InteractiveSession()\n",
    "\n",
    "results = np.zeros([6,3])\n",
    "for i in range(repeat_i_times):\n",
    "    for k in range(1,4):\n",
    "        x = tf.placeholder(tf.float32, shape=[None, 10**k])\n",
    "        y_ = tf.placeholder(tf.float32, shape=[None, 10**k])\n",
    "\n",
    "        W = weight_variable([10**k, 10**k])\n",
    "\n",
    "        x_in = np.random.normal(0,1,[10**k,10**k])\n",
    "        W_in = np.random.normal(0,1,[10**k,10**k])\n",
    "\n",
    "        y_conv = RBFEuclidean(x, W)\n",
    "        if True:\n",
    "            start = time.time()\n",
    "            y_conv.eval({x:x_in, W:W_in})\n",
    "            elapsed_time = time.time()-start\n",
    "            results[5,k-1] += elapsed_time/repeat_i_times\n",
    "            print(\"\\nFeed-forward took {} with GPU and {} datapoints\".format(elapsed_time, 10**k))"
   ]
  },
  {
   "cell_type": "code",
   "execution_count": 4,
   "metadata": {
    "collapsed": true
   },
   "outputs": [],
   "source": [
    "np.save(\"timings.npy\",results)"
   ]
  },
  {
   "cell_type": "code",
   "execution_count": 3,
   "metadata": {
    "collapsed": true
   },
   "outputs": [],
   "source": [
    "results = np.load(\"timings.npy\")"
   ]
  },
  {
   "cell_type": "code",
   "execution_count": 4,
   "metadata": {
    "collapsed": false
   },
   "outputs": [
    {
     "name": "stdout",
     "output_type": "stream",
     "text": [
      "\n",
      "Feed-forward took 0.0032329559326171875 with 1 threads and 10 datapoints\n",
      "\n",
      "Feed-forward took 0.08902144432067871 with 1 threads and 100 datapoints\n",
      "\n",
      "Feed-forward took 88.15529537200928 with 1 threads and 1000 datapoints\n",
      "\n",
      "Feed-forward took 0.0038673877716064453 with 2 threads and 10 datapoints\n",
      "\n",
      "Feed-forward took 0.0462346076965332 with 2 threads and 100 datapoints\n",
      "\n",
      "Feed-forward took 46.80621886253357 with 2 threads and 1000 datapoints\n",
      "\n",
      "Feed-forward took 0.0035529136657714844 with 4 threads and 10 datapoints\n",
      "\n",
      "Feed-forward took 0.02516341209411621 with 4 threads and 100 datapoints\n",
      "\n",
      "Feed-forward took 25.509135246276855 with 4 threads and 1000 datapoints\n",
      "\n",
      "Feed-forward took 0.004381418228149414 with 8 threads and 10 datapoints\n",
      "\n",
      "Feed-forward took 0.02704787254333496 with 8 threads and 100 datapoints\n",
      "\n",
      "Feed-forward took 17.36546564102173 with 8 threads and 1000 datapoints\n",
      "\n",
      "Feed-forward took 0.004401445388793945 with 16 threads and 10 datapoints\n",
      "\n",
      "Feed-forward took 0.030051231384277344 with 16 threads and 100 datapoints\n",
      "\n",
      "Feed-forward took 17.46496081352234 with 16 threads and 1000 datapoints\n",
      "\n",
      "Feed-forward took 0.004831075668334961 with 1 threads and 10 datapoints\n",
      "\n",
      "Feed-forward took 0.09022903442382812 with 1 threads and 100 datapoints\n",
      "\n",
      "Feed-forward took 88.48209857940674 with 1 threads and 1000 datapoints\n",
      "\n",
      "Feed-forward took 0.00477147102355957 with 2 threads and 10 datapoints\n",
      "\n",
      "Feed-forward took 0.04735517501831055 with 2 threads and 100 datapoints\n",
      "\n",
      "Feed-forward took 44.32245683670044 with 2 threads and 1000 datapoints\n",
      "\n",
      "Feed-forward took 0.00843954086303711 with 4 threads and 10 datapoints\n",
      "\n",
      "Feed-forward took 0.04159379005432129 with 4 threads and 100 datapoints\n",
      "\n",
      "Feed-forward took 26.77450180053711 with 4 threads and 1000 datapoints\n",
      "\n",
      "Feed-forward took 0.005580425262451172 with 8 threads and 10 datapoints\n",
      "\n",
      "Feed-forward took 0.030315876007080078 with 8 threads and 100 datapoints\n",
      "\n",
      "Feed-forward took 17.26765489578247 with 8 threads and 1000 datapoints\n",
      "\n",
      "Feed-forward took 0.0065190792083740234 with 16 threads and 10 datapoints\n",
      "\n",
      "Feed-forward took 0.029532432556152344 with 16 threads and 100 datapoints\n",
      "\n",
      "Feed-forward took 17.398097038269043 with 16 threads and 1000 datapoints\n",
      "\n",
      "Feed-forward took 0.005860090255737305 with 1 threads and 10 datapoints\n",
      "\n",
      "Feed-forward took 0.09119391441345215 with 1 threads and 100 datapoints\n",
      "\n",
      "Feed-forward took 87.64925146102905 with 1 threads and 1000 datapoints\n",
      "\n",
      "Feed-forward took 0.0063323974609375 with 2 threads and 10 datapoints\n",
      "\n",
      "Feed-forward took 0.048928260803222656 with 2 threads and 100 datapoints\n",
      "\n",
      "Feed-forward took 44.56292247772217 with 2 threads and 1000 datapoints\n",
      "\n",
      "Feed-forward took 0.006670236587524414 with 4 threads and 10 datapoints\n",
      "\n",
      "Feed-forward took 0.03917646408081055 with 4 threads and 100 datapoints\n",
      "\n",
      "Feed-forward took 27.926311016082764 with 4 threads and 1000 datapoints\n",
      "\n",
      "Feed-forward took 0.007539272308349609 with 8 threads and 10 datapoints\n",
      "\n",
      "Feed-forward took 0.0291900634765625 with 8 threads and 100 datapoints\n",
      "\n",
      "Feed-forward took 17.684712648391724 with 8 threads and 1000 datapoints\n",
      "\n",
      "Feed-forward took 0.007737159729003906 with 16 threads and 10 datapoints\n",
      "\n",
      "Feed-forward took 0.02843499183654785 with 16 threads and 100 datapoints\n",
      "\n",
      "Feed-forward took 17.50123953819275 with 16 threads and 1000 datapoints\n",
      "\n",
      "Feed-forward took 0.007530927658081055 with 1 threads and 10 datapoints\n",
      "\n",
      "Feed-forward took 0.10113716125488281 with 1 threads and 100 datapoints\n",
      "\n",
      "Feed-forward took 90.45476269721985 with 1 threads and 1000 datapoints\n",
      "\n",
      "Feed-forward took 0.007920980453491211 with 2 threads and 10 datapoints\n",
      "\n",
      "Feed-forward took 0.05043148994445801 with 2 threads and 100 datapoints\n",
      "\n",
      "Feed-forward took 45.97048759460449 with 2 threads and 1000 datapoints\n",
      "\n",
      "Feed-forward took 0.00815439224243164 with 4 threads and 10 datapoints\n",
      "\n",
      "Feed-forward took 0.02928471565246582 with 4 threads and 100 datapoints\n",
      "\n",
      "Feed-forward took 23.64580488204956 with 4 threads and 1000 datapoints\n",
      "\n",
      "Feed-forward took 0.008615970611572266 with 8 threads and 10 datapoints\n",
      "\n",
      "Feed-forward took 0.02761697769165039 with 8 threads and 100 datapoints\n",
      "\n",
      "Feed-forward took 17.635887145996094 with 8 threads and 1000 datapoints\n",
      "\n",
      "Feed-forward took 0.009515762329101562 with 16 threads and 10 datapoints\n",
      "\n",
      "Feed-forward took 0.03255105018615723 with 16 threads and 100 datapoints\n",
      "\n",
      "Feed-forward took 17.444978952407837 with 16 threads and 1000 datapoints\n",
      "\n",
      "Feed-forward took 0.009038448333740234 with 1 threads and 10 datapoints\n",
      "\n",
      "Feed-forward took 0.09419751167297363 with 1 threads and 100 datapoints\n",
      "\n",
      "Feed-forward took 88.99506640434265 with 1 threads and 1000 datapoints\n",
      "\n",
      "Feed-forward took 0.009431123733520508 with 2 threads and 10 datapoints\n",
      "\n",
      "Feed-forward took 0.05185437202453613 with 2 threads and 100 datapoints\n",
      "\n",
      "Feed-forward took 43.805904150009155 with 2 threads and 1000 datapoints\n",
      "\n",
      "Feed-forward took 0.009900569915771484 with 4 threads and 10 datapoints\n",
      "\n",
      "Feed-forward took 0.03080129623413086 with 4 threads and 100 datapoints\n",
      "\n",
      "Feed-forward took 29.398962259292603 with 4 threads and 1000 datapoints\n",
      "\n",
      "Feed-forward took 0.010571718215942383 with 8 threads and 10 datapoints\n",
      "\n",
      "Feed-forward took 0.033154964447021484 with 8 threads and 100 datapoints\n",
      "\n",
      "Feed-forward took 17.367835998535156 with 8 threads and 1000 datapoints\n",
      "\n",
      "Feed-forward took 0.010890007019042969 with 16 threads and 10 datapoints\n",
      "\n",
      "Feed-forward took 0.03492546081542969 with 16 threads and 100 datapoints\n",
      "\n",
      "Feed-forward took 17.79841685295105 with 16 threads and 1000 datapoints\n",
      "\n",
      "Feed-forward took 0.010779380798339844 with 1 threads and 10 datapoints\n",
      "\n",
      "Feed-forward took 0.09603428840637207 with 1 threads and 100 datapoints\n",
      "\n",
      "Feed-forward took 87.34103488922119 with 1 threads and 1000 datapoints\n",
      "\n",
      "Feed-forward took 0.011073112487792969 with 2 threads and 10 datapoints\n",
      "\n",
      "Feed-forward took 0.053179264068603516 with 2 threads and 100 datapoints\n",
      "\n",
      "Feed-forward took 44.32625699043274 with 2 threads and 1000 datapoints\n",
      "\n",
      "Feed-forward took 0.011386632919311523 with 4 threads and 10 datapoints\n",
      "\n",
      "Feed-forward took 0.03217887878417969 with 4 threads and 100 datapoints\n",
      "\n",
      "Feed-forward took 25.566179275512695 with 4 threads and 1000 datapoints\n",
      "\n",
      "Feed-forward took 0.011873006820678711 with 8 threads and 10 datapoints\n",
      "\n",
      "Feed-forward took 0.030729293823242188 with 8 threads and 100 datapoints\n",
      "\n",
      "Feed-forward took 17.558427095413208 with 8 threads and 1000 datapoints\n",
      "\n",
      "Feed-forward took 0.012842893600463867 with 16 threads and 10 datapoints\n",
      "\n",
      "Feed-forward took 0.03357887268066406 with 16 threads and 100 datapoints\n",
      "\n",
      "Feed-forward took 17.48691177368164 with 16 threads and 1000 datapoints\n",
      "\n",
      "Feed-forward took 0.012748003005981445 with 1 threads and 10 datapoints\n",
      "\n",
      "Feed-forward took 0.09749650955200195 with 1 threads and 100 datapoints\n",
      "\n",
      "Feed-forward took 92.39177441596985 with 1 threads and 1000 datapoints\n",
      "\n",
      "Feed-forward took 0.012720108032226562 with 2 threads and 10 datapoints\n",
      "\n",
      "Feed-forward took 0.05495858192443848 with 2 threads and 100 datapoints\n",
      "\n",
      "Feed-forward took 44.13042688369751 with 2 threads and 1000 datapoints\n",
      "\n",
      "Feed-forward took 0.013065099716186523 with 4 threads and 10 datapoints\n",
      "\n",
      "Feed-forward took 0.04522275924682617 with 4 threads and 100 datapoints\n",
      "\n",
      "Feed-forward took 27.389307022094727 with 4 threads and 1000 datapoints\n",
      "\n",
      "Feed-forward took 0.013686418533325195 with 8 threads and 10 datapoints\n",
      "\n",
      "Feed-forward took 0.032560110092163086 with 8 threads and 100 datapoints\n",
      "\n",
      "Feed-forward took 17.700119256973267 with 8 threads and 1000 datapoints\n",
      "\n",
      "Feed-forward took 0.012939929962158203 with 16 threads and 10 datapoints\n",
      "\n",
      "Feed-forward took 0.03823733329772949 with 16 threads and 100 datapoints\n",
      "\n",
      "Feed-forward took 17.4762065410614 with 16 threads and 1000 datapoints\n",
      "\n",
      "Feed-forward took 0.012934684753417969 with 1 threads and 10 datapoints\n",
      "\n",
      "Feed-forward took 0.13637399673461914 with 1 threads and 100 datapoints\n",
      "\n",
      "Feed-forward took 91.13917708396912 with 1 threads and 1000 datapoints\n",
      "\n",
      "Feed-forward took 0.014436006546020508 with 2 threads and 10 datapoints\n",
      "\n",
      "Feed-forward took 0.05678200721740723 with 2 threads and 100 datapoints\n",
      "\n",
      "Feed-forward took 43.62279033660889 with 2 threads and 1000 datapoints\n",
      "\n",
      "Feed-forward took 0.014259099960327148 with 4 threads and 10 datapoints\n",
      "\n",
      "Feed-forward took 0.03540492057800293 with 4 threads and 100 datapoints\n",
      "\n",
      "Feed-forward took 28.423216104507446 with 4 threads and 1000 datapoints\n",
      "\n",
      "Feed-forward took 0.015329360961914062 with 8 threads and 10 datapoints\n",
      "\n",
      "Feed-forward took 0.03820395469665527 with 8 threads and 100 datapoints\n",
      "\n",
      "Feed-forward took 18.106050968170166 with 8 threads and 1000 datapoints\n",
      "\n",
      "Feed-forward took 0.01594066619873047 with 16 threads and 10 datapoints\n",
      "\n",
      "Feed-forward took 0.03790640830993652 with 16 threads and 100 datapoints\n",
      "\n",
      "Feed-forward took 17.475857973098755 with 16 threads and 1000 datapoints\n",
      "\n",
      "Feed-forward took 0.014488458633422852 with 1 threads and 10 datapoints\n",
      "\n",
      "Feed-forward took 0.10051918029785156 with 1 threads and 100 datapoints\n",
      "\n",
      "Feed-forward took 87.23844242095947 with 1 threads and 1000 datapoints\n",
      "\n",
      "Feed-forward took 0.016185522079467773 with 2 threads and 10 datapoints\n",
      "\n",
      "Feed-forward took 0.05907082557678223 with 2 threads and 100 datapoints\n",
      "\n",
      "Feed-forward took 43.58178663253784 with 2 threads and 1000 datapoints\n",
      "\n",
      "Feed-forward took 0.016939640045166016 with 4 threads and 10 datapoints\n",
      "\n",
      "Feed-forward took 0.0496068000793457 with 4 threads and 100 datapoints\n",
      "\n",
      "Feed-forward took 31.100414991378784 with 4 threads and 1000 datapoints\n",
      "\n",
      "Feed-forward took 0.0175018310546875 with 8 threads and 10 datapoints\n",
      "\n",
      "Feed-forward took 0.03852081298828125 with 8 threads and 100 datapoints\n",
      "\n",
      "Feed-forward took 17.533580780029297 with 8 threads and 1000 datapoints\n",
      "\n",
      "Feed-forward took 0.017953872680664062 with 16 threads and 10 datapoints\n",
      "\n",
      "Feed-forward took 0.04227566719055176 with 16 threads and 100 datapoints\n",
      "\n",
      "Feed-forward took 17.470565795898438 with 16 threads and 1000 datapoints\n",
      "\n",
      "Feed-forward took 0.016302108764648438 with 1 threads and 10 datapoints\n",
      "\n",
      "Feed-forward took 0.1025083065032959 with 1 threads and 100 datapoints\n",
      "\n",
      "Feed-forward took 88.26718306541443 with 1 threads and 1000 datapoints\n",
      "\n",
      "Feed-forward took 0.01723647117614746 with 2 threads and 10 datapoints\n",
      "\n",
      "Feed-forward took 0.05930066108703613 with 2 threads and 100 datapoints\n",
      "\n",
      "Feed-forward took 43.64161229133606 with 2 threads and 1000 datapoints\n",
      "\n",
      "Feed-forward took 0.018032550811767578 with 4 threads and 10 datapoints\n",
      "\n",
      "Feed-forward took 0.038730621337890625 with 4 threads and 100 datapoints\n",
      "\n",
      "Feed-forward took 25.92401099205017 with 4 threads and 1000 datapoints\n",
      "\n",
      "Feed-forward took 0.018239259719848633 with 8 threads and 10 datapoints\n",
      "\n",
      "Feed-forward took 0.03597688674926758 with 8 threads and 100 datapoints\n",
      "\n",
      "Feed-forward took 17.446740865707397 with 8 threads and 1000 datapoints\n",
      "\n",
      "Feed-forward took 0.02016282081604004 with 16 threads and 10 datapoints\n",
      "\n",
      "Feed-forward took 0.04096698760986328 with 16 threads and 100 datapoints\n",
      "\n",
      "Feed-forward took 17.4446542263031 with 16 threads and 1000 datapoints\n"
     ]
    }
   ],
   "source": [
    "import os\n",
    "os.environ[\"CUDA_VISIBLE_DEVICES\"]=\"\"\n",
    "\n",
    "import numpy as np\n",
    "\n",
    "sess = tf.InteractiveSession()\n",
    "for i in range(repeat_i_times):\n",
    "    for n in range(0,5):\n",
    "        for k in range(1,4):\n",
    "            x = tf.placeholder(tf.float32, shape=[None, 10**k])\n",
    "            y_ = tf.placeholder(tf.float32, shape=[None, 10**k])\n",
    "\n",
    "            W = weight_variable([10**k, 10**k])\n",
    "\n",
    "            x_in = np.random.normal(0,1,[10**k,10**k])\n",
    "            W_in = np.random.normal(0,1,[10**k,10**k])\n",
    "\n",
    "            y_conv = RBFEuclidean(x, W, 2**n)\n",
    "            if True:\n",
    "                start = time.time()\n",
    "                y_conv.eval({x:x_in, W:W_in})\n",
    "                elapsed_time = time.time()-start\n",
    "                results[n,k-1] += elapsed_time/repeat_i_times\n",
    "                print(\"\\nFeed-forward took {} with {} threads and {} datapoints\".format(elapsed_time, 2**n, 10**k))"
   ]
  },
  {
   "cell_type": "code",
   "execution_count": 33,
   "metadata": {
    "collapsed": false
   },
   "outputs": [
    {
     "name": "stdout",
     "output_type": "stream",
     "text": [
      "Populating the interactive namespace from numpy and matplotlib\n"
     ]
    },
    {
     "data": {
      "image/png": "[encoded data removed]",
      "text/plain": [
       "<matplotlib.figure.Figure at 0x7f8fd6652da0>"
      ]
     },
     "metadata": {},
     "output_type": "display_data"
    }
   ],
   "source": [
    "%pylab inline\n",
    "pylab.rcParams['figure.figsize'] = (10.0, 8.0)\n",
    "from matplotlib import pyplot as plt\n",
    "\n",
    "plt.figure()\n",
    "plt.suptitle(\"Feedforward\", fontsize=24, y=1.05)\n",
    "plt.subplot(2,2,1)\n",
    "plt.title(\"Timing With Ten by Ten Sized Matrices\")\n",
    "plt.plot(results[:-1,0])\n",
    "plt.scatter([5],results[-1:,0])\n",
    "plt.xticks(range(-1,7),[\"\",\"1\", \"2\", \"4\", \"8\", \"16\", \"GPU\", \"\"])\n",
    "plt.xlabel(\"Number of threads (or GPU)\")\n",
    "plt.ylabel(\"Seconds to compute one calculation\")\n",
    "\n",
    "plt.subplot(2,2,2)\n",
    "plt.title(\"Timing With a Hundred by Hundred Sized Matrices\")\n",
    "plt.plot(results[:-1,1])\n",
    "plt.scatter([5],results[-1:,1])\n",
    "plt.xticks(range(-1,7),[\"\",\"1\", \"2\", \"4\", \"8\", \"16\", \"GPU\", \"\"])\n",
    "plt.xlabel(\"Number of threads (or GPU)\")\n",
    "plt.ylabel(\"Seconds to compute one calculation\")\n",
    "\n",
    "plt.subplot(2,2,3)\n",
    "plt.title(\"Timing With a Thousand by a Thousand Sized Matrices\")\n",
    "plt.plot(results[:-1,2])\n",
    "plt.scatter([5],results[-1:,2])\n",
    "plt.xticks(range(-1,7),[\"\",\"1\", \"2\", \"4\", \"8\", \"16\", \"GPU\", \"\"])\n",
    "plt.xlabel(\"Number of threads (or GPU)\")\n",
    "plt.ylabel(\"Seconds to compute one calculation\")\n",
    "\n",
    "plt.subplot(2,2,4)\n",
    "plt.title(\"All Timings In Log Scale\")\n",
    "plt.plot(results[:-1])\n",
    "plt.scatter([5],results[-1:,0],color=\"blue\")\n",
    "plt.scatter([5],results[-1:,1], color=\"green\")\n",
    "plt.scatter([5],results[-1:,2], color=\"red\")\n",
    "plt.xticks(range(-1,7),[\"\",\"1\", \"2\", \"4\", \"8\", \"16\", \"GPU\", \"\"])\n",
    "plt.xlabel(\"Number of threads (or GPU)\")\n",
    "plt.ylabel(\"Seconds to compute one calculation\")\n",
    "\n",
    "plt.yscale(\"log\")\n",
    "plt.tight_layout()\n",
    "\n",
    "plt.savefig(\"feedforward.pgf\")\n",
    "plt.show()\n",
    "np.save(\"feedforwardtimings.npy\",results)"
   ]
  },
  {
   "cell_type": "code",
   "execution_count": null,
   "metadata": {
    "collapsed": true
   },
   "outputs": [],
   "source": []
  },
  {
   "cell_type": "code",
   "execution_count": null,
   "metadata": {
    "collapsed": true
   },
   "outputs": [],
   "source": []
  },
  {
   "cell_type": "code",
   "execution_count": 1,
   "metadata": {
    "collapsed": true
   },
   "outputs": [],
   "source": [
    "import tensorflow as tf\n",
    "euclidean_dist_module = tf.load_op_library(\"euclidean_dist.so\")\n",
    "euclidean_dist = euclidean_dist_module.euclidean_dist\n",
    "euclidean_dist_grad = euclidean_dist_module.euclidean_dist_grad\n",
    "\n",
    "from tensorflow.python.framework import ops\n",
    "@ops.RegisterGradient(\"EuclideanDist\")\n",
    "def _EuclideanDistGrad(op, grad):\n",
    "    a = op.inputs[0]\n",
    "    b = op.inputs[1]\n",
    "    y = op.outputs[0]  # y = 0.5 * b / conj(a)\n",
    "    xGrad, cGrad = euclidean_dist_grad(a,b,y,grad)\n",
    "    return xGrad, cGrad\n",
    "\n",
    "import time\n",
    "\n",
    "\n",
    "def weight_variable(shape):\n",
    "    initial = tf.truncated_normal(shape, stddev=0.1)\n",
    "    return tf.Variable(initial)\n",
    "\n",
    "def bias_variable(shape):\n",
    "    initial = tf.constant(0.1, shape=shape)\n",
    "    return tf.Variable(initial)\n",
    "\n",
    "def RBFEuclidean(x, C, number_of_threads=1):\n",
    "    \"\"\"Computes distance from cluster centers defined in input C\n",
    "    \n",
    "    Both outdim and indim should be integers.\n",
    "    \"\"\"\n",
    "    return -euclidean_dist(x,C,number_of_threads)"
   ]
  },
  {
   "cell_type": "code",
   "execution_count": 2,
   "metadata": {
    "collapsed": true
   },
   "outputs": [],
   "source": [
    "repeat_i_times = 10"
   ]
  },
  {
   "cell_type": "code",
   "execution_count": 4,
   "metadata": {
    "collapsed": false,
    "scrolled": true
   },
   "outputs": [
    {
     "name": "stdout",
     "output_type": "stream",
     "text": [
      "\n",
      "Backprop took 0.10253262519836426 with GPU and 10 datapoints\n",
      "\n",
      "Backprop took 0.0055501461029052734 with GPU and 100 datapoints\n",
      "\n",
      "Backprop took 0.45310139656066895 with GPU and 1000 datapoints\n",
      "\n",
      "Backprop took 0.004923820495605469 with GPU and 10 datapoints\n",
      "\n",
      "Backprop took 0.005915403366088867 with GPU and 100 datapoints\n",
      "\n",
      "Backprop took 0.4490547180175781 with GPU and 1000 datapoints\n",
      "\n",
      "Backprop took 0.005160808563232422 with GPU and 10 datapoints\n",
      "\n",
      "Backprop took 0.0061187744140625 with GPU and 100 datapoints\n",
      "\n",
      "Backprop took 0.4521031379699707 with GPU and 1000 datapoints\n",
      "\n",
      "Backprop took 0.0056247711181640625 with GPU and 10 datapoints\n",
      "\n",
      "Backprop took 0.00650477409362793 with GPU and 100 datapoints\n",
      "\n",
      "Backprop took 0.4496266841888428 with GPU and 1000 datapoints\n",
      "\n",
      "Backprop took 0.006127357482910156 with GPU and 10 datapoints\n",
      "\n",
      "Backprop took 0.00709223747253418 with GPU and 100 datapoints\n",
      "\n",
      "Backprop took 0.45067405700683594 with GPU and 1000 datapoints\n",
      "\n",
      "Backprop took 0.0064504146575927734 with GPU and 10 datapoints\n",
      "\n",
      "Backprop took 0.007270097732543945 with GPU and 100 datapoints\n",
      "\n",
      "Backprop took 0.4512162208557129 with GPU and 1000 datapoints\n",
      "\n",
      "Backprop took 0.00681614875793457 with GPU and 10 datapoints\n",
      "\n",
      "Backprop took 0.007638216018676758 with GPU and 100 datapoints\n",
      "\n",
      "Backprop took 0.45655226707458496 with GPU and 1000 datapoints\n",
      "\n",
      "Backprop took 0.010160684585571289 with GPU and 10 datapoints\n",
      "\n",
      "Backprop took 0.011613607406616211 with GPU and 100 datapoints\n",
      "\n",
      "Backprop took 0.45688962936401367 with GPU and 1000 datapoints\n",
      "\n",
      "Backprop took 0.014014005661010742 with GPU and 10 datapoints\n",
      "\n",
      "Backprop took 0.008870601654052734 with GPU and 100 datapoints\n",
      "\n",
      "Backprop took 0.4524211883544922 with GPU and 1000 datapoints\n",
      "\n",
      "Backprop took 0.008249759674072266 with GPU and 10 datapoints\n",
      "\n",
      "Backprop took 0.008954048156738281 with GPU and 100 datapoints\n",
      "\n",
      "Backprop took 0.4534881114959717 with GPU and 1000 datapoints\n"
     ]
    }
   ],
   "source": [
    "import os\n",
    "os.environ[\"CUDA_VISIBLE_DEVICES\"]=\"0\"\n",
    "\n",
    "sess = tf.InteractiveSession()\n",
    "\n",
    "results = np.zeros([6,3])\n",
    "for i in range(repeat_i_times):\n",
    "    for k in range(1,4):\n",
    "        x = tf.placeholder(tf.float32, shape=[None, 10**k])\n",
    "        y_ = tf.placeholder(tf.float32, shape=[None, 10**k])\n",
    "\n",
    "        W = weight_variable([10**k, 10**k])\n",
    "\n",
    "        x_in = np.random.normal(0,1,[10**k,10**k])\n",
    "        W_in = np.random.normal(0,1,[10**k,10**k])\n",
    "\n",
    "        y_conv = RBFEuclidean(x, W)\n",
    "        \n",
    "        grad = tf.gradients(y_conv,[x,W])\n",
    "        if True:\n",
    "            start = time.time()\n",
    "            tf.get_default_session().run(grad, feed_dict={x:x_in, W:W_in})\n",
    "            elapsed_time = time.time()-start\n",
    "            results[5,k-1] += elapsed_time/repeat_i_times\n",
    "            print(\"\\nBackprop took {} with GPU and {} datapoints\".format(elapsed_time, 10**k))"
   ]
  },
  {
   "cell_type": "code",
   "execution_count": 5,
   "metadata": {
    "collapsed": true
   },
   "outputs": [],
   "source": [
    "np.save(\"timings.npy\",results)"
   ]
  },
  {
   "cell_type": "code",
   "execution_count": 3,
   "metadata": {
    "collapsed": true
   },
   "outputs": [],
   "source": [
    "results = np.load(\"timings.npy\")"
   ]
  },
  {
   "cell_type": "code",
   "execution_count": 4,
   "metadata": {
    "collapsed": false
   },
   "outputs": [
    {
     "name": "stdout",
     "output_type": "stream",
     "text": [
      "\n",
      "Backprop took 0.004094123840332031 with 1 threads and 10 datapoints\n",
      "\n",
      "Backprop took 0.2740468978881836 with 1 threads and 100 datapoints\n",
      "\n",
      "Backprop took 204.35610055923462 with 1 threads and 1000 datapoints\n",
      "\n",
      "Backprop took 0.004304409027099609 with 2 threads and 10 datapoints\n",
      "\n",
      "Backprop took 0.15582704544067383 with 2 threads and 100 datapoints\n",
      "\n",
      "Backprop took 159.93707871437073 with 2 threads and 1000 datapoints\n",
      "\n",
      "Backprop took 0.004886150360107422 with 4 threads and 10 datapoints\n",
      "\n",
      "Backprop took 0.1363816261291504 with 4 threads and 100 datapoints\n",
      "\n",
      "Backprop took 144.11951208114624 with 4 threads and 1000 datapoints\n",
      "\n",
      "Backprop took 0.0053904056549072266 with 8 threads and 10 datapoints\n",
      "\n",
      "Backprop took 0.13651108741760254 with 8 threads and 100 datapoints\n",
      "\n",
      "Backprop took 133.5270013809204 with 8 threads and 1000 datapoints\n",
      "\n",
      "Backprop took 0.006148576736450195 with 16 threads and 10 datapoints\n",
      "\n",
      "Backprop took 0.13579940795898438 with 16 threads and 100 datapoints\n",
      "\n",
      "Backprop took 131.45001792907715 with 16 threads and 1000 datapoints\n",
      "\n",
      "Backprop took 0.005733013153076172 with 1 threads and 10 datapoints\n",
      "\n",
      "Backprop took 0.20072674751281738 with 1 threads and 100 datapoints\n",
      "\n",
      "Backprop took 205.21843361854553 with 1 threads and 1000 datapoints\n",
      "\n",
      "Backprop took 0.0063893795013427734 with 2 threads and 10 datapoints\n",
      "\n",
      "Backprop took 0.15763378143310547 with 2 threads and 100 datapoints\n",
      "\n",
      "Backprop took 162.17705726623535 with 2 threads and 1000 datapoints\n",
      "\n",
      "Backprop took 0.006818056106567383 with 4 threads and 10 datapoints\n",
      "\n",
      "Backprop took 0.14864802360534668 with 4 threads and 100 datapoints\n",
      "\n",
      "Backprop took 142.08267498016357 with 4 threads and 1000 datapoints\n",
      "\n",
      "Backprop took 0.007290840148925781 with 8 threads and 10 datapoints\n",
      "\n",
      "Backprop took 0.13888955116271973 with 8 threads and 100 datapoints\n",
      "\n",
      "Backprop took 134.99269032478333 with 8 threads and 1000 datapoints\n",
      "\n",
      "Backprop took 0.008765697479248047 with 16 threads and 10 datapoints\n",
      "\n",
      "Backprop took 0.14610743522644043 with 16 threads and 100 datapoints\n",
      "\n",
      "Backprop took 131.87644791603088 with 16 threads and 1000 datapoints\n",
      "\n",
      "Backprop took 0.008007526397705078 with 1 threads and 10 datapoints\n",
      "\n",
      "Backprop took 0.2025744915008545 with 1 threads and 100 datapoints\n",
      "\n",
      "Backprop took 205.1317493915558 with 1 threads and 1000 datapoints\n",
      "\n",
      "Backprop took 0.009347200393676758 with 2 threads and 10 datapoints\n",
      "\n",
      "Backprop took 0.16611552238464355 with 2 threads and 100 datapoints\n",
      "\n",
      "Backprop took 159.69919157028198 with 2 threads and 1000 datapoints\n",
      "\n",
      "Backprop took 0.009036779403686523 with 4 threads and 10 datapoints\n",
      "\n",
      "Backprop took 0.1401972770690918 with 4 threads and 100 datapoints\n",
      "\n",
      "Backprop took 142.50203156471252 with 4 threads and 1000 datapoints\n",
      "\n",
      "Backprop took 0.03990650177001953 with 8 threads and 10 datapoints\n",
      "\n",
      "Backprop took 0.14565110206604004 with 8 threads and 100 datapoints\n",
      "\n",
      "Backprop took 135.12911939620972 with 8 threads and 1000 datapoints\n",
      "\n",
      "Backprop took 0.0113677978515625 with 16 threads and 10 datapoints\n",
      "\n",
      "Backprop took 0.1410965919494629 with 16 threads and 100 datapoints\n",
      "\n",
      "Backprop took 131.91143107414246 with 16 threads and 1000 datapoints\n",
      "\n",
      "Backprop took 0.010936737060546875 with 1 threads and 10 datapoints\n",
      "\n",
      "Backprop took 0.20449495315551758 with 1 threads and 100 datapoints\n",
      "\n",
      "Backprop took 206.40549993515015 with 1 threads and 1000 datapoints\n",
      "\n",
      "Backprop took 0.010952472686767578 with 2 threads and 10 datapoints\n",
      "\n",
      "Backprop took 0.1628403663635254 with 2 threads and 100 datapoints\n",
      "\n",
      "Backprop took 159.99777913093567 with 2 threads and 1000 datapoints\n",
      "\n",
      "Backprop took 0.011780977249145508 with 4 threads and 10 datapoints\n",
      "\n",
      "Backprop took 0.152374267578125 with 4 threads and 100 datapoints\n",
      "\n",
      "Backprop took 143.0022759437561 with 4 threads and 1000 datapoints\n",
      "\n",
      "Backprop took 0.01102590560913086 with 8 threads and 10 datapoints\n",
      "\n",
      "Backprop took 0.15091776847839355 with 8 threads and 100 datapoints\n",
      "\n",
      "Backprop took 132.65297102928162 with 8 threads and 1000 datapoints\n",
      "\n",
      "Backprop took 0.012123346328735352 with 16 threads and 10 datapoints\n",
      "\n",
      "Backprop took 0.15025973320007324 with 16 threads and 100 datapoints\n",
      "\n",
      "Backprop took 134.97525811195374 with 16 threads and 1000 datapoints\n",
      "\n",
      "Backprop took 0.012554645538330078 with 1 threads and 10 datapoints\n",
      "\n",
      "Backprop took 0.20638775825500488 with 1 threads and 100 datapoints\n",
      "\n",
      "Backprop took 204.1528069972992 with 1 threads and 1000 datapoints\n",
      "\n",
      "Backprop took 0.014051437377929688 with 2 threads and 10 datapoints\n",
      "\n",
      "Backprop took 0.16444659233093262 with 2 threads and 100 datapoints\n",
      "\n",
      "Backprop took 163.8159146308899 with 2 threads and 1000 datapoints\n",
      "\n",
      "Backprop took 0.012989044189453125 with 4 threads and 10 datapoints\n",
      "\n",
      "Backprop took 0.14309382438659668 with 4 threads and 100 datapoints\n",
      "\n",
      "Backprop took 145.77241921424866 with 4 threads and 1000 datapoints\n",
      "\n",
      "Backprop took 0.014562606811523438 with 8 threads and 10 datapoints\n",
      "\n",
      "Backprop took 0.14074110984802246 with 8 threads and 100 datapoints\n",
      "\n",
      "Backprop took 132.21886682510376 with 8 threads and 1000 datapoints\n",
      "\n",
      "Backprop took 0.014961004257202148 with 16 threads and 10 datapoints\n",
      "\n",
      "Backprop took 0.143324613571167 with 16 threads and 100 datapoints\n",
      "\n",
      "Backprop took 132.91949677467346 with 16 threads and 1000 datapoints\n",
      "\n",
      "Backprop took 0.014765501022338867 with 1 threads and 10 datapoints\n",
      "\n",
      "Backprop took 0.22594714164733887 with 1 threads and 100 datapoints\n",
      "\n",
      "Backprop took 204.72345209121704 with 1 threads and 1000 datapoints\n",
      "\n",
      "Backprop took 0.014847993850708008 with 2 threads and 10 datapoints\n",
      "\n",
      "Backprop took 0.1656789779663086 with 2 threads and 100 datapoints\n",
      "\n",
      "Backprop took 161.70656633377075 with 2 threads and 1000 datapoints\n",
      "\n",
      "Backprop took 0.015531778335571289 with 4 threads and 10 datapoints\n",
      "\n",
      "Backprop took 0.15711045265197754 with 4 threads and 100 datapoints\n",
      "\n",
      "Backprop took 147.42548036575317 with 4 threads and 1000 datapoints\n",
      "\n",
      "Backprop took 0.015822649002075195 with 8 threads and 10 datapoints\n",
      "\n",
      "Backprop took 0.15778470039367676 with 8 threads and 100 datapoints\n",
      "\n",
      "Backprop took 136.97084403038025 with 8 threads and 1000 datapoints\n",
      "\n",
      "Backprop took 0.017802000045776367 with 16 threads and 10 datapoints\n",
      "\n",
      "Backprop took 0.14468598365783691 with 16 threads and 100 datapoints\n",
      "\n",
      "Backprop took 136.07438802719116 with 16 threads and 1000 datapoints\n",
      "\n",
      "Backprop took 0.01599287986755371 with 1 threads and 10 datapoints\n",
      "\n",
      "Backprop took 0.20919084548950195 with 1 threads and 100 datapoints\n",
      "\n",
      "Backprop took 202.39225935935974 with 1 threads and 1000 datapoints\n",
      "\n",
      "Backprop took 0.016911029815673828 with 2 threads and 10 datapoints\n",
      "\n",
      "Backprop took 0.16654562950134277 with 2 threads and 100 datapoints\n",
      "\n",
      "Backprop took 160.2892985343933 with 2 threads and 1000 datapoints\n",
      "\n",
      "Backprop took 0.015943527221679688 with 4 threads and 10 datapoints\n",
      "\n",
      "Backprop took 0.1475200653076172 with 4 threads and 100 datapoints\n",
      "\n",
      "Backprop took 144.0751438140869 with 4 threads and 1000 datapoints\n",
      "\n",
      "Backprop took 0.01691436767578125 with 8 threads and 10 datapoints\n",
      "\n",
      "Backprop took 0.14827990531921387 with 8 threads and 100 datapoints\n",
      "\n",
      "Backprop took 133.3203661441803 with 8 threads and 1000 datapoints\n",
      "\n",
      "Backprop took 0.01748967170715332 with 16 threads and 10 datapoints\n",
      "\n",
      "Backprop took 0.1465156078338623 with 16 threads and 100 datapoints\n",
      "\n",
      "Backprop took 134.18065786361694 with 16 threads and 1000 datapoints\n",
      "\n",
      "Backprop took 0.018362998962402344 with 1 threads and 10 datapoints\n",
      "\n",
      "Backprop took 0.21236538887023926 with 1 threads and 100 datapoints\n",
      "\n",
      "Backprop took 202.32116174697876 with 1 threads and 1000 datapoints\n",
      "\n",
      "Backprop took 0.01821160316467285 with 2 threads and 10 datapoints\n",
      "\n",
      "Backprop took 0.2044358253479004 with 2 threads and 100 datapoints\n",
      "\n",
      "Backprop took 162.02967929840088 with 2 threads and 1000 datapoints\n",
      "\n",
      "Backprop took 0.01882314682006836 with 4 threads and 10 datapoints\n",
      "\n",
      "Backprop took 0.1491868495941162 with 4 threads and 100 datapoints\n",
      "\n",
      "Backprop took 144.11870908737183 with 4 threads and 1000 datapoints\n",
      "\n",
      "Backprop took 0.020158052444458008 with 8 threads and 10 datapoints\n",
      "\n",
      "Backprop took 0.1500082015991211 with 8 threads and 100 datapoints\n",
      "\n",
      "Backprop took 134.4871220588684 with 8 threads and 1000 datapoints\n",
      "\n",
      "Backprop took 0.020169973373413086 with 16 threads and 10 datapoints\n",
      "\n",
      "Backprop took 0.15879583358764648 with 16 threads and 100 datapoints\n",
      "\n",
      "Backprop took 132.8937394618988 with 16 threads and 1000 datapoints\n",
      "\n",
      "Backprop took 0.01919722557067871 with 1 threads and 10 datapoints\n",
      "\n",
      "Backprop took 0.21400690078735352 with 1 threads and 100 datapoints\n",
      "\n",
      "Backprop took 203.63754081726074 with 1 threads and 1000 datapoints\n",
      "\n",
      "Backprop took 0.02272176742553711 with 2 threads and 10 datapoints\n",
      "\n",
      "Backprop took 0.17065834999084473 with 2 threads and 100 datapoints\n",
      "\n",
      "Backprop took 160.6747760772705 with 2 threads and 1000 datapoints\n",
      "\n",
      "Backprop took 0.02127981185913086 with 4 threads and 10 datapoints\n",
      "\n",
      "Backprop took 0.15175485610961914 with 4 threads and 100 datapoints\n",
      "\n",
      "Backprop took 143.90283465385437 with 4 threads and 1000 datapoints\n",
      "\n",
      "Backprop took 0.02323436737060547 with 8 threads and 10 datapoints\n",
      "\n",
      "Backprop took 0.15219569206237793 with 8 threads and 100 datapoints\n",
      "\n",
      "Backprop took 134.1761496067047 with 8 threads and 1000 datapoints\n",
      "\n",
      "Backprop took 0.03505444526672363 with 16 threads and 10 datapoints\n",
      "\n",
      "Backprop took 0.1750776767730713 with 16 threads and 100 datapoints\n",
      "\n",
      "Backprop took 132.98229932785034 with 16 threads and 1000 datapoints\n",
      "\n",
      "Backprop took 0.021880626678466797 with 1 threads and 10 datapoints\n",
      "\n",
      "Backprop took 0.21570754051208496 with 1 threads and 100 datapoints\n",
      "\n",
      "Backprop took 204.94635438919067 with 1 threads and 1000 datapoints\n",
      "\n",
      "Backprop took 0.024300336837768555 with 2 threads and 10 datapoints\n",
      "\n",
      "Backprop took 0.17359495162963867 with 2 threads and 100 datapoints\n",
      "\n",
      "Backprop took 160.61314988136292 with 2 threads and 1000 datapoints\n",
      "\n",
      "Backprop took 0.023850202560424805 with 4 threads and 10 datapoints\n",
      "\n",
      "Backprop took 0.16777300834655762 with 4 threads and 100 datapoints\n",
      "\n",
      "Backprop took 146.12919998168945 with 4 threads and 1000 datapoints\n",
      "\n",
      "Backprop took 0.025606870651245117 with 8 threads and 10 datapoints\n",
      "\n",
      "Backprop took 0.15977978706359863 with 8 threads and 100 datapoints\n",
      "\n",
      "Backprop took 134.21318459510803 with 8 threads and 1000 datapoints\n",
      "\n",
      "Backprop took 0.02656078338623047 with 16 threads and 10 datapoints\n",
      "\n",
      "Backprop took 0.15356063842773438 with 16 threads and 100 datapoints\n",
      "\n",
      "Backprop took 134.84589433670044 with 16 threads and 1000 datapoints\n"
     ]
    }
   ],
   "source": [
    "import os\n",
    "os.environ[\"CUDA_VISIBLE_DEVICES\"]=\"\"\n",
    "\n",
    "import numpy as np\n",
    "\n",
    "sess = tf.InteractiveSession()\n",
    "for i in range(repeat_i_times):\n",
    "    for n in range(0,5):\n",
    "        for k in range(1,4):\n",
    "            x = tf.placeholder(tf.float32, shape=[None, 10**k])\n",
    "            y_ = tf.placeholder(tf.float32, shape=[None, 10**k])\n",
    "\n",
    "            W = weight_variable([10**k, 10**k])\n",
    "\n",
    "            x_in = np.random.normal(0,1,[10**k,10**k])\n",
    "            W_in = np.random.normal(0,1,[10**k,10**k])\n",
    "\n",
    "            y_conv = RBFEuclidean(x, W, 2**n)\n",
    "        \n",
    "            grad = tf.gradients(y_conv,[x,W])\n",
    "            if True:\n",
    "                start = time.time()\n",
    "                tf.get_default_session().run(grad, feed_dict={x:x_in, W:W_in})\n",
    "                elapsed_time = time.time()-start\n",
    "                results[n,k-1] += elapsed_time/repeat_i_times\n",
    "                print(\"\\nBackprop took {} with {} threads and {} datapoints\".format(elapsed_time, 2**n, 10**k))"
   ]
  },
  {
   "cell_type": "code",
   "execution_count": 5,
   "metadata": {
    "collapsed": false
   },
   "outputs": [
    {
     "name": "stdout",
     "output_type": "stream",
     "text": [
      "Populating the interactive namespace from numpy and matplotlib\n"
     ]
    },
    {
     "data": {
      "image/png": "[encoded data removed]",
      "text/plain": [
       "<matplotlib.figure.Figure at 0x7f2925ac0390>"
      ]
     },
     "metadata": {},
     "output_type": "display_data"
    }
   ],
   "source": [
    "%pylab inline\n",
    "pylab.rcParams['figure.figsize'] = (10.0, 8.0)\n",
    "from matplotlib import pyplot as plt\n",
    "\n",
    "plt.figure()\n",
    "plt.suptitle(\"Backpropagation\", fontsize=24, y=1.05)\n",
    "plt.subplot(2,2,1)\n",
    "plt.title(\"Timing With Ten by Ten Sized Matrices\")\n",
    "plt.plot(results[:-1,0])\n",
    "plt.scatter([5],results[-1:,0])\n",
    "plt.xticks(range(-1,7),[\"\",\"1\", \"2\", \"4\", \"8\", \"16\", \"GPU\", \"\"])\n",
    "plt.xlabel(\"Number of threads (or GPU)\")\n",
    "plt.ylabel(\"Seconds to compute one calculation\")\n",
    "\n",
    "plt.subplot(2,2,2)\n",
    "plt.title(\"Timing With a Hundred by Hundred Sized Matrices\")\n",
    "plt.plot(results[:-1,1])\n",
    "plt.scatter([5],results[-1:,1])\n",
    "plt.xticks(range(-1,7),[\"\",\"1\", \"2\", \"4\", \"8\", \"16\", \"GPU\", \"\"])\n",
    "plt.xlabel(\"Number of threads (or GPU)\")\n",
    "plt.ylabel(\"Seconds to compute one calculation\")\n",
    "\n",
    "plt.subplot(2,2,3)\n",
    "plt.title(\"Timing With a Thousand by a Thousand Sized Matrices\")\n",
    "plt.plot(results[:-1,2])\n",
    "plt.scatter([5],results[-1:,2])\n",
    "plt.xticks(range(-1,7),[\"\",\"1\", \"2\", \"4\", \"8\", \"16\", \"GPU\", \"\"])\n",
    "plt.xlabel(\"Number of threads (or GPU)\")\n",
    "plt.ylabel(\"Seconds to compute one calculation\")\n",
    "\n",
    "plt.subplot(2,2,4)\n",
    "plt.title(\"All Timings In Log Scale\")\n",
    "plt.plot(results[:-1])\n",
    "plt.scatter([5],results[-1:,0],color=\"blue\")\n",
    "plt.scatter([5],results[-1:,1], color=\"green\")\n",
    "plt.scatter([5],results[-1:,2], color=\"red\")\n",
    "plt.xticks(range(-1,7),[\"\",\"1\", \"2\", \"4\", \"8\", \"16\", \"GPU\", \"\"])\n",
    "plt.xlabel(\"Number of threads (or GPU)\")\n",
    "plt.ylabel(\"Seconds to compute one calculation\")\n",
    "plt.yscale(\"log\")\n",
    "\n",
    "plt.tight_layout()\n",
    "\n",
    "plt.savefig(\"backprop.pgf\")\n",
    "plt.show()\n",
    "np.save(\"backproptimings.npy\",results)"
   ]
  },
  {
   "cell_type": "code",
   "execution_count": 108,
   "metadata": {
    "collapsed": false
   },
   "outputs": [
    {
     "data": {
      "image/png": "[encoded data removed]",
      "text/plain": [
       "<matplotlib.figure.Figure at 0x7f28cf1b61d0>"
      ]
     },
     "metadata": {},
     "output_type": "display_data"
    }
   ],
   "source": [
    "thread_counts = np.array([1,2,4,8,16,32*256])\n",
    "timings = np.load(\"feedforwardtimings.npy\")\n",
    "results = timings[0,None]/timings\n",
    "plt.figure()\n",
    "plt.suptitle(\"Feedforward\", fontsize=24, y=1.05)\n",
    "plt.subplot(2,2,1)\n",
    "plt.title(\"All Speed Ups\")\n",
    "plt.plot(results[:-1])\n",
    "plt.scatter([5],results[-1:,0],color=\"blue\")\n",
    "plt.scatter([5],results[-1:,1], color=\"green\")\n",
    "plt.scatter([5],results[-1:,2], color=\"red\")\n",
    "plt.xticks(range(-1,7),[\"\",\"1\", \"2\", \"4\", \"8\", \"16\", \"GPU\", \"\"])\n",
    "plt.xlabel(\"Number of threads (or GPU)\")\n",
    "plt.ylabel(\"Speed up ratio on one calculation (log scale)\")\n",
    "plt.yscale(\"log\")\n",
    "plt.legend([\"10x10\",\"100x100\",\"1000x1000\"],loc=2)\n",
    "\n",
    "plt.subplot(2,2,2)\n",
    "plt.title(\"CPU Only Speed Ups\")\n",
    "plt.plot(results[:-1]-1)\n",
    "plt.xticks(range(-1,6),[\"\",\"1\", \"2\", \"4\", \"8\", \"16\", \"\"])\n",
    "plt.xlabel(\"Number of threads\")\n",
    "plt.ylabel(\"Relative speed difference on one calculation\")\n",
    "plt.legend([\"10x10\",\"100x100\",\"1000x1000\"],loc=2)\n",
    "\n",
    "plt.subplot(2,2,3)\n",
    "plt.title(\"Speed Up Per Thread\")\n",
    "plt.plot((results[1:-1]-1)/thread_counts[1:-1,None])\n",
    "plt.scatter([4],(results[-1:,0]-1)/thread_counts[-1],color=\"blue\")\n",
    "plt.scatter([4],(results[-1:,1]-1)/thread_counts[-1], color=\"green\")\n",
    "plt.scatter([4],(results[-1:,2]-1)/thread_counts[-1], color=\"red\")\n",
    "plt.xticks(range(-1,6),[\"\", \"2\", \"4\", \"8\", \"16\", \"GPU\", \"\"])\n",
    "plt.xlabel(\"Number of threads (or GPU)\")\n",
    "plt.ylabel(\"Relative speed difference on one calculation\")\n",
    "plt.legend([\"10x10\",\"100x100\",\"1000x1000\"],loc=1)\n",
    "\n",
    "plt.subplot(2,2,4)\n",
    "def amdahlPortion(speedup,threads):\n",
    "    return threads*(speedup-1)/((threads-1)*speedup)\n",
    "plt.title(\"Amdahl's Law Calculated Parallelizable Portion\")\n",
    "plt.plot(amdahlPortion(results[1:-1],thread_counts[1:-1,None]))\n",
    "plt.scatter([4],amdahlPortion(results[-1:,0],thread_counts[-1]),color=\"blue\")\n",
    "plt.scatter([4],amdahlPortion(results[-1:,1],thread_counts[-1]), color=\"green\")\n",
    "plt.scatter([4],amdahlPortion(results[-1:,2],thread_counts[-1]), color=\"red\")\n",
    "plt.xticks(range(-1,6),[\"\", \"2\", \"4\", \"8\", \"16\", \"GPU\", \"\"])\n",
    "plt.xlabel(\"Number of threads (or GPU)\")\n",
    "plt.ylabel(\"Ratio of parallelizable code to total code\")\n",
    "plt.legend([\"10x10\",\"100x100\",\"1000x1000\"],loc=10)\n",
    "\n",
    "plt.tight_layout()\n",
    "plt.savefig(\"feedforward2.pgf\")\n",
    "plt.show()"
   ]
  },
  {
   "cell_type": "code",
   "execution_count": 91,
   "metadata": {
    "collapsed": false
   },
   "outputs": [
    {
     "data": {
      "text/plain": [
       "array([[ 0.94244669,  1.00064302],\n",
       "       [ 0.84315011,  0.92640745],\n",
       "       [ 0.77287544,  0.91731113]])"
      ]
     },
     "execution_count": 91,
     "metadata": {},
     "output_type": "execute_result"
    }
   ],
   "source": [
    "amdahlPortion(results[1:-2,1:],thread_counts[1:-2,None])"
   ]
  },
  {
   "cell_type": "code",
   "execution_count": 92,
   "metadata": {
    "collapsed": false
   },
   "outputs": [
    {
     "data": {
      "text/plain": [
       "array([ 0.94244669,  0.84315011,  0.77287544])"
      ]
     },
     "execution_count": 92,
     "metadata": {},
     "output_type": "execute_result"
    }
   ],
   "source": [
    "amdahlPortion(results[1:-2,1],thread_counts[1:-2])"
   ]
  },
  {
   "cell_type": "code",
   "execution_count": 93,
   "metadata": {
    "collapsed": false
   },
   "outputs": [
    {
     "data": {
      "text/plain": [
       "array([ 1.00064302,  0.92640745,  0.91731113])"
      ]
     },
     "execution_count": 93,
     "metadata": {},
     "output_type": "execute_result"
    }
   ],
   "source": [
    "amdahlPortion(results[1:-2,2],thread_counts[1:-2])"
   ]
  },
  {
   "cell_type": "code",
   "execution_count": 94,
   "metadata": {
    "collapsed": false
   },
   "outputs": [
    {
     "data": {
      "text/plain": [
       "array([ 0.94731871,  0.99711002])"
      ]
     },
     "execution_count": 94,
     "metadata": {},
     "output_type": "execute_result"
    }
   ],
   "source": [
    "amdahlPortion(results[-1,1:],thread_counts[-1])"
   ]
  },
  {
   "cell_type": "code",
   "execution_count": 95,
   "metadata": {
    "collapsed": false
   },
   "outputs": [
    {
     "data": {
      "text/plain": [
       "0.9004723065515009"
      ]
     },
     "execution_count": 95,
     "metadata": {},
     "output_type": "execute_result"
    }
   ],
   "source": [
    "np.average(amdahlPortion(results[1:-2,1:],thread_counts[1:-2,None]))"
   ]
  },
  {
   "cell_type": "code",
   "execution_count": 96,
   "metadata": {
    "collapsed": false
   },
   "outputs": [
    {
     "data": {
      "text/plain": [
       "0.85282408014801414"
      ]
     },
     "execution_count": 96,
     "metadata": {},
     "output_type": "execute_result"
    }
   ],
   "source": [
    "np.average(amdahlPortion(results[1:-2,1],thread_counts[1:-2]))"
   ]
  },
  {
   "cell_type": "code",
   "execution_count": 97,
   "metadata": {
    "collapsed": false
   },
   "outputs": [
    {
     "data": {
      "text/plain": [
       "0.94812053295498755"
      ]
     },
     "execution_count": 97,
     "metadata": {},
     "output_type": "execute_result"
    }
   ],
   "source": [
    "np.average(amdahlPortion(results[1:-2,2],thread_counts[1:-2]))"
   ]
  },
  {
   "cell_type": "code",
   "execution_count": 98,
   "metadata": {
    "collapsed": false
   },
   "outputs": [
    {
     "data": {
      "text/plain": [
       "0.97221436787683058"
      ]
     },
     "execution_count": 98,
     "metadata": {},
     "output_type": "execute_result"
    }
   ],
   "source": [
    "np.average(amdahlPortion(results[-1,1:],thread_counts[-1]))"
   ]
  },
  {
   "cell_type": "code",
   "execution_count": 109,
   "metadata": {
    "collapsed": false
   },
   "outputs": [
    {
     "data": {
      "image/png": "[encoded data removed]",
      "text/plain": [
       "<matplotlib.figure.Figure at 0x7f28cf246b00>"
      ]
     },
     "metadata": {},
     "output_type": "display_data"
    }
   ],
   "source": [
    "thread_counts = np.array([1,2,4,8,16,32*256])\n",
    "timings = np.load(\"backproptimings.npy\")\n",
    "results = timings[0,None]/timings\n",
    "plt.figure()\n",
    "plt.suptitle(\"Backpropagation\", fontsize=24, y=1.05)\n",
    "plt.subplot(2,2,1)\n",
    "plt.title(\"All Speed Ups\")\n",
    "plt.plot(results[:-1])\n",
    "plt.scatter([5],results[-1:,0],color=\"blue\")\n",
    "plt.scatter([5],results[-1:,1], color=\"green\")\n",
    "plt.scatter([5],results[-1:,2], color=\"red\")\n",
    "plt.xticks(range(-1,7),[\"\",\"1\", \"2\", \"4\", \"8\", \"16\", \"GPU\", \"\"])\n",
    "plt.xlabel(\"Number of threads (or GPU)\")\n",
    "plt.ylabel(\"Speed up ratio on one calculation (log scale)\")\n",
    "plt.yscale(\"log\")\n",
    "plt.legend([\"10x10\",\"100x100\",\"1000x1000\"],loc=2)\n",
    "\n",
    "plt.subplot(2,2,2)\n",
    "plt.title(\"CPU Only Speed Ups\")\n",
    "plt.plot(results[:-1]-1)\n",
    "plt.xticks(range(-1,6),[\"\",\"1\", \"2\", \"4\", \"8\", \"16\", \"\"])\n",
    "plt.xlabel(\"Number of threads\")\n",
    "plt.ylabel(\"Relative speed difference on one calculation\")\n",
    "plt.legend([\"10x10\",\"100x100\",\"1000x1000\"],loc=5)\n",
    "\n",
    "plt.subplot(2,2,3)\n",
    "plt.title(\"Speed Up Per Thread\")\n",
    "plt.plot((results[1:-1]-1)/thread_counts[1:-1,None])\n",
    "plt.scatter([4],(results[-1:,0]-1)/thread_counts[-1],color=\"blue\")\n",
    "plt.scatter([4],(results[-1:,1]-1)/thread_counts[-1], color=\"green\")\n",
    "plt.scatter([4],(results[-1:,2]-1)/thread_counts[-1], color=\"red\")\n",
    "plt.xticks(range(-1,6),[\"\", \"2\", \"4\", \"8\", \"16\", \"GPU\", \"\"])\n",
    "plt.xlabel(\"Number of threads (or GPU)\")\n",
    "plt.ylabel(\"Relative speed difference on one calculation\")\n",
    "plt.legend([\"10x10\",\"100x100\",\"1000x1000\"],loc=1)\n",
    "\n",
    "plt.subplot(2,2,4)\n",
    "def amdahlPortion(speedup,threads):\n",
    "    return threads*(speedup-1)/((threads-1)*speedup)\n",
    "plt.title(\"Amdahl's Law Calculated Parallelizable Portion\")\n",
    "plt.plot(amdahlPortion(results[1:-1],thread_counts[1:-1,None]))\n",
    "plt.scatter([4],amdahlPortion(results[-1:,0],thread_counts[-1]),color=\"blue\")\n",
    "plt.scatter([4],amdahlPortion(results[-1:,1],thread_counts[-1]), color=\"green\")\n",
    "plt.scatter([4],amdahlPortion(results[-1:,2],thread_counts[-1]), color=\"red\")\n",
    "plt.xticks(range(-1,6),[\"\", \"2\", \"4\", \"8\", \"16\", \"GPU\", \"\"])\n",
    "plt.xlabel(\"Number of threads (or GPU)\")\n",
    "plt.ylabel(\"Ratio of parallelizable code to total code\")\n",
    "plt.legend([\"10x10\",\"100x100\",\"1000x1000\"],loc=2)\n",
    "\n",
    "plt.tight_layout()\n",
    "plt.savefig(\"backprop2.pgf\")\n",
    "plt.show()"
   ]
  },
  {
   "cell_type": "code",
   "execution_count": 100,
   "metadata": {
    "collapsed": false
   },
   "outputs": [
    {
     "data": {
      "text/plain": [
       "array([[ 0.44117566,  0.42318599],\n",
       "       [ 0.41340681,  0.39162752],\n",
       "       [ 0.36135818,  0.39241959]])"
      ]
     },
     "execution_count": 100,
     "metadata": {},
     "output_type": "execute_result"
    }
   ],
   "source": [
    "amdahlPortion(results[1:-2,1:],thread_counts[1:-2,None])"
   ]
  },
  {
   "cell_type": "code",
   "execution_count": 101,
   "metadata": {
    "collapsed": false
   },
   "outputs": [
    {
     "data": {
      "text/plain": [
       "array([ 0.44117566,  0.41340681,  0.36135818])"
      ]
     },
     "execution_count": 101,
     "metadata": {},
     "output_type": "execute_result"
    }
   ],
   "source": [
    "amdahlPortion(results[1:-2,1],thread_counts[1:-2])"
   ]
  },
  {
   "cell_type": "code",
   "execution_count": 102,
   "metadata": {
    "collapsed": false
   },
   "outputs": [
    {
     "data": {
      "text/plain": [
       "array([ 0.42318599,  0.39162752,  0.39241959])"
      ]
     },
     "execution_count": 102,
     "metadata": {},
     "output_type": "execute_result"
    }
   ],
   "source": [
    "amdahlPortion(results[1:-2,2],thread_counts[1:-2])"
   ]
  },
  {
   "cell_type": "code",
   "execution_count": 103,
   "metadata": {
    "collapsed": false
   },
   "outputs": [
    {
     "data": {
      "text/plain": [
       "array([ 0.96523919,  0.99790718])"
      ]
     },
     "execution_count": 103,
     "metadata": {},
     "output_type": "execute_result"
    }
   ],
   "source": [
    "amdahlPortion(results[-1,1:],thread_counts[-1])"
   ]
  },
  {
   "cell_type": "code",
   "execution_count": 104,
   "metadata": {
    "collapsed": false
   },
   "outputs": [
    {
     "data": {
      "text/plain": [
       "0.40386228929710644"
      ]
     },
     "execution_count": 104,
     "metadata": {},
     "output_type": "execute_result"
    }
   ],
   "source": [
    "np.average(amdahlPortion(results[1:-2,1:],thread_counts[1:-2,None]))"
   ]
  },
  {
   "cell_type": "code",
   "execution_count": 105,
   "metadata": {
    "collapsed": false
   },
   "outputs": [
    {
     "data": {
      "text/plain": [
       "0.40531354866514063"
      ]
     },
     "execution_count": 105,
     "metadata": {},
     "output_type": "execute_result"
    }
   ],
   "source": [
    "np.average(amdahlPortion(results[1:-2,1],thread_counts[1:-2]))"
   ]
  },
  {
   "cell_type": "code",
   "execution_count": 106,
   "metadata": {
    "collapsed": false
   },
   "outputs": [
    {
     "data": {
      "text/plain": [
       "0.40241102992907224"
      ]
     },
     "execution_count": 106,
     "metadata": {},
     "output_type": "execute_result"
    }
   ],
   "source": [
    "np.average(amdahlPortion(results[1:-2,2],thread_counts[1:-2]))"
   ]
  },
  {
   "cell_type": "code",
   "execution_count": 107,
   "metadata": {
    "collapsed": false
   },
   "outputs": [
    {
     "data": {
      "text/plain": [
       "0.98157318393468651"
      ]
     },
     "execution_count": 107,
     "metadata": {},
     "output_type": "execute_result"
    }
   ],
   "source": [
    "np.average(amdahlPortion(results[-1,1:],thread_counts[-1]))"
   ]
  },
  {
   "cell_type": "code",
   "execution_count": null,
   "metadata": {
    "collapsed": true
   },
   "outputs": [],
   "source": []
  }
 ],
 "metadata": {
  "kernelspec": {
   "display_name": "Python 3",
   "language": "python",
   "name": "python3"
  },
  "language_info": {
   "codemirror_mode": {
    "name": "ipython",
    "version": 3
   },
   "file_extension": ".py",
   "mimetype": "text/x-python",
   "name": "python",
   "nbconvert_exporter": "python",
   "pygments_lexer": "ipython3",
   "version": "3.4.3"
  }
 },
 "nbformat": 4,
 "nbformat_minor": 0
}
