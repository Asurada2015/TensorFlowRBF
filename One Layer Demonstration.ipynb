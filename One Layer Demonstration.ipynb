{
 "cells": [
  {
   "cell_type": "code",
   "execution_count": 1,
   "metadata": {
    "collapsed": false
   },
   "outputs": [
    {
     "name": "stdout",
     "output_type": "stream",
     "text": [
      "Extracting MNIST_data/train-images-idx3-ubyte.gz\n",
      "Extracting MNIST_data/train-labels-idx1-ubyte.gz\n",
      "Extracting MNIST_data/t10k-images-idx3-ubyte.gz\n",
      "Extracting MNIST_data/t10k-labels-idx1-ubyte.gz\n",
      "step 0, training accuracy 0.1\n",
      "step 1000, training accuracy 0.8\n",
      "step 2000, training accuracy 0.76\n",
      "step 3000, training accuracy 0.88\n",
      "step 4000, training accuracy 0.74\n",
      "step 5000, training accuracy 0.82\n",
      "step 6000, training accuracy 0.82\n",
      "step 7000, training accuracy 0.88\n",
      "step 8000, training accuracy 0.8\n",
      "step 9000, training accuracy 0.8\n",
      "step 10000, training accuracy 0.92\n",
      "step 11000, training accuracy 0.66\n",
      "step 12000, training accuracy 0.8\n",
      "step 13000, training accuracy 0.88\n",
      "step 14000, training accuracy 0.9\n",
      "step 15000, training accuracy 0.84\n",
      "step 16000, training accuracy 0.86\n",
      "step 17000, training accuracy 0.8\n",
      "step 18000, training accuracy 0.86\n",
      "step 19000, training accuracy 0.9\n",
      "step 19900, training accuracy 0.92\n",
      "Training took 25.26233458518982\n",
      "\n",
      "test accuracy 0.8681\n"
     ]
    }
   ],
   "source": [
    "from tensorflow.examples.tutorials.mnist import input_data\n",
    "mnist = input_data.read_data_sets('MNIST_data', one_hot=True)\n",
    "\n",
    "import tensorflow as tf\n",
    "euclidean_dist_module = tf.load_op_library(\"euclidean_dist.so\")\n",
    "euclidean_dist = euclidean_dist_module.euclidean_dist\n",
    "euclidean_dist_grad = euclidean_dist_module.euclidean_dist_grad\n",
    "\n",
    "from tensorflow.python.framework import ops\n",
    "@ops.RegisterGradient(\"EuclideanDist\")\n",
    "def _EuclideanDistGrad(op, grad):\n",
    "    a = op.inputs[0]\n",
    "    b = op.inputs[1]\n",
    "    y = op.outputs[0]  # y = 0.5 * b / conj(a)\n",
    "    xGrad, cGrad = euclidean_dist_grad(a,b,y,grad)\n",
    "    return xGrad, cGrad\n",
    "\n",
    "import time\n",
    "\n",
    "\n",
    "def weight_variable(shape):\n",
    "    initial = tf.truncated_normal(shape, stddev=0.1)\n",
    "    return tf.Variable(initial)\n",
    "\n",
    "def bias_variable(shape):\n",
    "    initial = tf.constant(0.1, shape=shape)\n",
    "    return tf.Variable(initial)\n",
    "\n",
    "def RBFEuclidean(x, C):\n",
    "    \"\"\"Computes distance from cluster centers defined in input C\n",
    "    \n",
    "    Both outdim and indim should be integers.\n",
    "    \"\"\"\n",
    "    return -euclidean_dist(x,C)\n",
    "\n",
    "sess = tf.InteractiveSession()\n",
    "\n",
    "x = tf.placeholder(tf.float32, shape=[None, 784])\n",
    "y_ = tf.placeholder(tf.float32, shape=[None, 10])\n",
    "\n",
    "W_fc2 = weight_variable([784, 10])\n",
    "b_fc2 = bias_variable([10])\n",
    "\n",
    "y_conv = RBFEuclidean(x, W_fc2) + b_fc2\n",
    "\n",
    "cross_entropy = tf.reduce_mean(tf.nn.softmax_cross_entropy_with_logits(y_conv, y_))\n",
    "train_step = tf.train.AdamOptimizer(1e-4).minimize(cross_entropy)\n",
    "correct_prediction = tf.equal(tf.argmax(y_conv,1), tf.argmax(y_,1))\n",
    "accuracy = tf.reduce_mean(tf.cast(correct_prediction, tf.float32))\n",
    "sess.run(tf.initialize_all_variables())\n",
    "start = time.time()\n",
    "for i in range(20000):\n",
    "  batch = mnist.train.next_batch(50)\n",
    "  if i%100 == 0:\n",
    "    train_accuracy = accuracy.eval(feed_dict={\n",
    "        x:batch[0], y_: batch[1]})\n",
    "    print(\"\\rstep %d, training accuracy %g\"%(i, train_accuracy), end=\"\" if i%1000 else \"\\n\")\n",
    "  train_step.run(feed_dict={x: batch[0], y_: batch[1]})\n",
    "\n",
    "elapsed = time.time()-start\n",
    "print(\"\\nTraining took {}\".format(elapsed))\n",
    "print(\"\\ntest accuracy %g\"%accuracy.eval(feed_dict={\n",
    "    x: mnist.test.images, y_: mnist.test.labels}))"
   ]
  },
  {
   "cell_type": "code",
   "execution_count": null,
   "metadata": {
    "collapsed": true
   },
   "outputs": [],
   "source": []
  }
 ],
 "metadata": {
  "kernelspec": {
   "display_name": "Python 3",
   "language": "python",
   "name": "python3"
  },
  "language_info": {
   "codemirror_mode": {
    "name": "ipython",
    "version": 3
   },
   "file_extension": ".py",
   "mimetype": "text/x-python",
   "name": "python",
   "nbconvert_exporter": "python",
   "pygments_lexer": "ipython3",
   "version": "3.4.3"
  }
 },
 "nbformat": 4,
 "nbformat_minor": 0
}
